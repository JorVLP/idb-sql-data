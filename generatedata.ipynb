{
 "metadata": {
  "language_info": {
   "codemirror_mode": {
    "name": "ipython",
    "version": 3
   },
   "file_extension": ".py",
   "mimetype": "text/x-python",
   "name": "python",
   "nbconvert_exporter": "python",
   "pygments_lexer": "ipython3",
   "version": "3.8.5-final"
  },
  "orig_nbformat": 2,
  "kernelspec": {
   "name": "Python 3.8.5 32-bit",
   "display_name": "Python 3.8.5 32-bit",
   "metadata": {
    "interpreter": {
     "hash": "884922730c8497a3ca85276b9ca94a44b32b95acebcd5913062507995d15bc20"
    }
   }
  }
 },
 "nbformat": 4,
 "nbformat_minor": 2,
 "cells": [
  {
   "cell_type": "code",
   "execution_count": 18,
   "metadata": {},
   "outputs": [],
   "source": [
    "import numpy as np\n",
    "import pandas as pd"
   ]
  },
  {
   "cell_type": "code",
   "execution_count": 19,
   "metadata": {},
   "outputs": [],
   "source": [
    "## Generate courses\n",
    "def create_courses(num_rows):\n",
    "    codes = []\n",
    "    for i in range(num_rows):\n",
    "        while True:\n",
    "            code = get_course_code()\n",
    "            if code not in codes:\n",
    "                codes.append(code)\n",
    "                break\n",
    "    courses = []\n",
    "    for code in codes:\n",
    "        row = {}\n",
    "        row[\"code\"] = code\n",
    "        row[\"name\"] = get_course_name(code)\n",
    "        row[\"credits\"] = np.random.randint(0,120)\n",
    "        courses.append(row)\n",
    "    return pd.DataFrame(courses)"
   ]
  },
  {
   "cell_type": "code",
   "execution_count": 40,
   "metadata": {},
   "outputs": [],
   "source": [
    "## Generate Degrees\n",
    "def create_degrees(num_rows):\n",
    "    codes = []\n",
    "    for i in range(num_rows):\n",
    "        while True:\n",
    "            code = get_degree_code()\n",
    "            if code not in codes:\n",
    "                codes.append(code)\n",
    "                break\n",
    "    degrees = []\n",
    "    for code in codes:\n",
    "        row = {}\n",
    "        row[\"code\"] = code\n",
    "        row[\"name\"] = get_degree_name()\n",
    "        row[\"type\"] = [\"UG\",\"PG\"][np.random.rand() > 0.50]\n",
    "        print(row[\"type\"])\n",
    "        degrees.append(row)\n",
    "    return pd.DataFrame(degrees)"
   ]
  },
  {
   "cell_type": "code",
   "execution_count": 21,
   "metadata": {},
   "outputs": [],
   "source": [
    "## Generate Students\n",
    "def create_students(num_rows, degrees):\n",
    "    degree_uuns = degrees[\"code\"].values\n",
    "    uuns = []\n",
    "    for i in range(num_rows):\n",
    "        while True:\n",
    "            uun = get_student_uun()\n",
    "            if uun not in uuns:\n",
    "                uuns.append(uun)\n",
    "                break\n",
    "    students = []\n",
    "    for uun in uuns:\n",
    "        row = {}\n",
    "        row[\"uun\"] = uun\n",
    "        row[\"name\"] = get_student_name()\n",
    "        row[\"degree\"] = degree_uuns[np.random.randint(0,len(degree_uuns))]\n",
    "        students.append(row)\n",
    "    return pd.DataFrame(students)"
   ]
  },
  {
   "cell_type": "code",
   "execution_count": 22,
   "metadata": {},
   "outputs": [],
   "source": [
    "## Generate Exams\n",
    "def create_exams(num_rows, students, courses):\n",
    "    student_uuns = students[\"uun\"].values\n",
    "    course_codes = courses[\"code\"].values\n",
    "    students_courses = []\n",
    "    for i in range(num_rows):\n",
    "        while True:\n",
    "            student = student_uuns[np.random.randint(0,len(student_uuns))]\n",
    "            course = course_codes[np.random.randint(0,len(course_codes))]\n",
    "            stu_cou = (student, course)\n",
    "            if stu_cou not in students_courses:\n",
    "                students_courses.append(stu_cou)\n",
    "                break\n",
    "    exams = []\n",
    "    for stu_cou in students_courses:\n",
    "        row = {}\n",
    "        row[\"student\"] = stu_cou[0]\n",
    "        row[\"course\"] = stu_cou[1]\n",
    "        row[\"date\"] = get_exam_date()\n",
    "        row[\"grade\"] = get_exam_grade()\n",
    "        exams.append(row)\n",
    "    return pd.DataFrame(exams)"
   ]
  },
  {
   "cell_type": "code",
   "execution_count": 49,
   "metadata": {},
   "outputs": [],
   "source": [
    "## Generate Programmes\n",
    "def create_programmes(num_rows, degrees, courses):\n",
    "    degree_codes = degrees[\"code\"].values\n",
    "    course_codes = courses[\"code\"].values\n",
    "    degrees_courses = []\n",
    "    for i in range(num_rows):\n",
    "        while True:\n",
    "            degree = degree_codes[np.random.randint(1,len(degree_codes))] # start at 1, at least one degree has no courses\n",
    "            course = course_codes[np.random.randint(0,len(course_codes))]\n",
    "            deg_cou = (degree, course)\n",
    "            if deg_cou not in degrees_courses:\n",
    "                degrees_courses.append(deg_cou)\n",
    "                break\n",
    "    programmes = []\n",
    "    for deg_cou in degrees_courses:\n",
    "        row = {}\n",
    "        row[\"degree\"] = deg_cou[0]\n",
    "        row[\"course\"] = deg_cou[1]\n",
    "        programmes.append(row)\n",
    "    return pd.DataFrame(programmes)"
   ]
  },
  {
   "cell_type": "code",
   "execution_count": 24,
   "metadata": {},
   "outputs": [],
   "source": [
    "### AESTHETICS\n",
    "def get_course_name(code): # upto 60 characters\n",
    "    course_prefixes = [\"Intro to\",\"Advanced\",\"Applied\", \"Numerical\", \"Practical\", \"Theoretical\"]\n",
    "    prefix = course_prefixes[np.random.randint(len(course_prefixes))]\n",
    "    course_names = [\"Databases\",\"Stats\",\"Probability\",\"Algebra\",\"Computer Systems\", \"Psychology\",\"Engineering\"]\n",
    "    code = code[:4]\n",
    "    if code in [\"INF0\",\"DATA\",\"AI00\"]:\n",
    "        course_names = [\"Databases\",\"Logic\",\"Computer Systems\", \"Artifical Int\",\"Machine Learning\"]\n",
    "    elif code in [\"MATH\",\"MECH\",\"ENGI\",\"STAT\",\"CHEM\"]:\n",
    "        course_names = [\"Stats\",\"Probability\",\"Algebra\",\"Calculus\", \"Engineering\"]\n",
    "    else:\n",
    "        course_names = [\"Psychology\", \"Criminology\",\"Art History\", \"Accounting\",\"Business\"]\n",
    "    name = course_names[np.random.randint(len(course_names))]\n",
    "    return f\"{prefix} {name} {np.random.randint(1,3)}\"\n",
    "\n",
    "deg_prefixs = [\"INF\",\"AI\",\"DATA\",\"MATH\",\"STAT\",\"MECH\",\"ENGI\",\"CHEM\",\"LAW\",\"PSYC\",\"BUSI\"]\n",
    "\n",
    "def get_course_code():\n",
    "    prefix = deg_prefixs[np.random.randint(len(deg_prefixs))].ljust(4,\"0\")\n",
    "    return f\"{prefix}{np.random.randint(1000,10000)}\"\n",
    "\n",
    "\n",
    "def get_degree_code():\n",
    "    prefix = deg_prefixs[np.random.randint(len(deg_prefixs))].ljust(4,\"0\")\n",
    "    return f\"D{prefix}{np.random.randint(100,1000)}\"\n",
    "\n",
    "def get_degree_name(): # upto 10 characters\n",
    "    prefix = deg_prefixs[np.random.randint(len(deg_prefixs))]\n",
    "    return f\"DEG{prefix}{np.random.randint(1,9)}\" \n",
    "\n",
    "def get_student_uun():\n",
    "    return f\"s18{np.random.randint(10000,100000)}\"\n",
    "\n",
    "def get_student_name():\n",
    "    firsts = ['Amanda','Bob', 'Catherine', 'David', 'Edward', 'Frank', 'Gloria', 'Helen', 'Irene', 'Jessica', 'Kevin', 'Lee', 'Michael', 'Nicole',\n",
    "              'Ollie', 'Patty', 'Quentin','Russell', 'Stacy', 'Timothy', 'Ursula', 'Velma', 'William','Xander', 'Yvonne', 'Zoe']\n",
    "    lasts = ['Armstrong', 'Brown', 'Clark', 'Dorn', 'Evans', 'Foreman', 'Glass', 'Hall', 'Inda', 'Jackson', 'Kelly', 'Larsen', 'Mcdonald', 'Norton',\n",
    "             'Obryan', 'Parker', 'Quinn', 'Richards', 'Smith', 'Talbott', 'Underwood', 'Vogler', 'White', 'Xiong', 'Young', 'Zeigler']\n",
    "    first = firsts[np.random.randint(len(firsts))]\n",
    "    last = lasts[np.random.randint(len(lasts))]\n",
    "    return f\"{first} {last}\"\n",
    "\n",
    "def get_exam_date():\n",
    "    return f\"2020-12-{np.random.randint(10,20)}\"\n",
    "\n",
    "def get_exam_grade():\n",
    "    grade_band = np.random.randint(0,4)\n",
    "    return int([0,40,60,80][grade_band] + np.random.rand() * [40,20,20,20][grade_band])"
   ]
  },
  {
   "cell_type": "code",
   "execution_count": 51,
   "metadata": {},
   "outputs": [
    {
     "output_type": "stream",
     "name": "stdout",
     "text": [
      "UG\nPG\nUG\nPG\nUG\nUG\nUG\nUG\nUG\nUG\nUG\nPG\nPG\nUG\nPG\n"
     ]
    }
   ],
   "source": [
    "np.random.seed(1)\n",
    "courses = create_courses(20)\n",
    "degrees = create_degrees(15)\n",
    "students = create_students(250,degrees)\n",
    "exams = create_exams(500,students,courses)\n",
    "programmes = create_programmes(30, degrees, courses)\n",
    "\n",
    "\n",
    "courses.to_csv(\"courses.csv\", index=False,header=False)\n",
    "degrees.to_csv(\"degrees.csv\", index=False,header=False)\n",
    "students.to_csv(\"students.csv\", index=False,header=False)\n",
    "exams.to_csv(\"exams.csv\", index=False,header=False)\n",
    "programmes.to_csv(\"programmes.csv\", index=False,header=False)\n"
   ]
  },
  {
   "cell_type": "code",
   "execution_count": null,
   "metadata": {},
   "outputs": [],
   "source": []
  }
 ]
}